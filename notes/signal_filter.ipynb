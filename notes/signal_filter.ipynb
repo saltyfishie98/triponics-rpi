import pyodbc
import matplotlib.pyplot as plt
import numpy as np

conn = pyodbc.connect(
    "Driver={/opt/microsoft/msodbcsql18/lib64/libmsodbcsql-18.4.so.1.1};""Server=10.42.0.1;""UID=test;""PWD=P2a672609808074816daa123#;""TrustServerCertificate=yes;"  
)   

cursor = conn.cursor()
cursor.execute('SELECT ec FROM Triponics.dbo.water_sensor_measurement')

data = []
for row in cursor:
    data.append(float(row[
    0
]))



raw_signal = np.array(data);
n = raw_signal.size

start = 0
length = 100;
a = raw_signal[start:(start+length)
];
print(f"{a}")

ts = 1
t = np.arange(start=start,stop=start+length,step=ts)

plt.figure(figsize = (50,
10))
plt.plot(t, a, 'r')
plt.ylabel('Amplitude')

